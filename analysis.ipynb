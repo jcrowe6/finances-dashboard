{
 "cells": [
  {
   "cell_type": "code",
   "execution_count": 2,
   "id": "603b21ec",
   "metadata": {},
   "outputs": [],
   "source": [
    "import pandas as pd\n",
    "import pathlib as pl"
   ]
  },
  {
   "cell_type": "code",
   "execution_count": 3,
   "id": "86ad1cf0",
   "metadata": {},
   "outputs": [],
   "source": [
    "data_dir = pl.Path('statements')\n",
    "amex_dir = data_dir / 'amex'\n",
    "amex_files = list(amex_dir.glob('*.csv'))"
   ]
  },
  {
   "cell_type": "code",
   "execution_count": 4,
   "id": "e6b8c112",
   "metadata": {},
   "outputs": [],
   "source": [
    "amex_df = pd.concat(\n",
    "    [pd.read_csv(file, parse_dates=['Date']) for file in amex_files],\n",
    ")\n",
    "amex_df['Month'] = amex_df['Date'].dt.to_period('M')\n",
    "amex_df['Category_1'] = amex_df['Category'].str.split('-').str[0]\n",
    "amex_df['Category_2'] = amex_df['Category'].str.split('-').str[1]\n",
    "amex_df = amex_df[amex_df['Amount'] > 0]"
   ]
  },
  {
   "cell_type": "code",
   "execution_count": 5,
   "id": "e8d818c3",
   "metadata": {},
   "outputs": [
    {
     "data": {
      "text/html": [
       "<div>\n",
       "<style scoped>\n",
       "    .dataframe tbody tr th:only-of-type {\n",
       "        vertical-align: middle;\n",
       "    }\n",
       "\n",
       "    .dataframe tbody tr th {\n",
       "        vertical-align: top;\n",
       "    }\n",
       "\n",
       "    .dataframe thead th {\n",
       "        text-align: right;\n",
       "    }\n",
       "</style>\n",
       "<table border=\"1\" class=\"dataframe\">\n",
       "  <thead>\n",
       "    <tr style=\"text-align: right;\">\n",
       "      <th></th>\n",
       "      <th>Total</th>\n",
       "      <th>Count</th>\n",
       "      <th>Average</th>\n",
       "    </tr>\n",
       "    <tr>\n",
       "      <th>Month</th>\n",
       "      <th></th>\n",
       "      <th></th>\n",
       "      <th></th>\n",
       "    </tr>\n",
       "  </thead>\n",
       "  <tbody>\n",
       "    <tr>\n",
       "      <th>2024-12</th>\n",
       "      <td>1168.59</td>\n",
       "      <td>22</td>\n",
       "      <td>53.117727</td>\n",
       "    </tr>\n",
       "    <tr>\n",
       "      <th>2025-01</th>\n",
       "      <td>1178.47</td>\n",
       "      <td>10</td>\n",
       "      <td>117.847000</td>\n",
       "    </tr>\n",
       "    <tr>\n",
       "      <th>2025-02</th>\n",
       "      <td>4622.96</td>\n",
       "      <td>37</td>\n",
       "      <td>124.944865</td>\n",
       "    </tr>\n",
       "    <tr>\n",
       "      <th>2025-03</th>\n",
       "      <td>1141.21</td>\n",
       "      <td>23</td>\n",
       "      <td>49.617826</td>\n",
       "    </tr>\n",
       "    <tr>\n",
       "      <th>2025-04</th>\n",
       "      <td>5597.11</td>\n",
       "      <td>106</td>\n",
       "      <td>52.802925</td>\n",
       "    </tr>\n",
       "    <tr>\n",
       "      <th>2025-05</th>\n",
       "      <td>1875.40</td>\n",
       "      <td>56</td>\n",
       "      <td>33.489286</td>\n",
       "    </tr>\n",
       "    <tr>\n",
       "      <th>2025-06</th>\n",
       "      <td>556.32</td>\n",
       "      <td>10</td>\n",
       "      <td>55.632000</td>\n",
       "    </tr>\n",
       "    <tr>\n",
       "      <th>2025-07</th>\n",
       "      <td>4094.07</td>\n",
       "      <td>71</td>\n",
       "      <td>57.662958</td>\n",
       "    </tr>\n",
       "    <tr>\n",
       "      <th>2025-08</th>\n",
       "      <td>642.28</td>\n",
       "      <td>12</td>\n",
       "      <td>53.523333</td>\n",
       "    </tr>\n",
       "  </tbody>\n",
       "</table>\n",
       "</div>"
      ],
      "text/plain": [
       "           Total  Count     Average\n",
       "Month                              \n",
       "2024-12  1168.59     22   53.117727\n",
       "2025-01  1178.47     10  117.847000\n",
       "2025-02  4622.96     37  124.944865\n",
       "2025-03  1141.21     23   49.617826\n",
       "2025-04  5597.11    106   52.802925\n",
       "2025-05  1875.40     56   33.489286\n",
       "2025-06   556.32     10   55.632000\n",
       "2025-07  4094.07     71   57.662958\n",
       "2025-08   642.28     12   53.523333"
      ]
     },
     "execution_count": 5,
     "metadata": {},
     "output_type": "execute_result"
    }
   ],
   "source": [
    "amex_df.groupby('Month').agg(\n",
    "    Total=('Amount', 'sum'),\n",
    "    Count=('Amount', 'size'),\n",
    "    Average=('Amount', 'mean'),\n",
    ")"
   ]
  },
  {
   "cell_type": "code",
   "execution_count": 6,
   "id": "7e8a4eff",
   "metadata": {},
   "outputs": [
    {
     "ename": "ImportError",
     "evalue": "matplotlib is required for plotting when the default backend \"matplotlib\" is selected.",
     "output_type": "error",
     "traceback": [
      "\u001b[0;31m---------------------------------------------------------------------------\u001b[0m",
      "\u001b[0;31mImportError\u001b[0m                               Traceback (most recent call last)",
      "Cell \u001b[0;32mIn[6], line 1\u001b[0m\n\u001b[0;32m----> 1\u001b[0m \u001b[43mamex_df\u001b[49m\u001b[38;5;241;43m.\u001b[39;49m\u001b[43mgroupby\u001b[49m\u001b[43m(\u001b[49m\u001b[43m[\u001b[49m\u001b[38;5;124;43m'\u001b[39;49m\u001b[38;5;124;43mMonth\u001b[39;49m\u001b[38;5;124;43m'\u001b[39;49m\u001b[43m,\u001b[49m\u001b[43m \u001b[49m\u001b[38;5;124;43m'\u001b[39;49m\u001b[38;5;124;43mCategory_1\u001b[39;49m\u001b[38;5;124;43m'\u001b[39;49m\u001b[43m]\u001b[49m\u001b[43m)\u001b[49m\u001b[43m[\u001b[49m\u001b[38;5;124;43m'\u001b[39;49m\u001b[38;5;124;43mAmount\u001b[39;49m\u001b[38;5;124;43m'\u001b[39;49m\u001b[43m]\u001b[49m\u001b[38;5;241;43m.\u001b[39;49m\u001b[43msum\u001b[49m\u001b[43m(\u001b[49m\u001b[43m)\u001b[49m\u001b[38;5;241;43m.\u001b[39;49m\u001b[43munstack\u001b[49m\u001b[43m(\u001b[49m\u001b[43mfill_value\u001b[49m\u001b[38;5;241;43m=\u001b[39;49m\u001b[38;5;241;43m0\u001b[39;49m\u001b[43m)\u001b[49m\u001b[38;5;241;43m.\u001b[39;49m\u001b[43mplot\u001b[49m\u001b[43m(\u001b[49m\n\u001b[1;32m      2\u001b[0m \u001b[43m    \u001b[49m\u001b[43mkind\u001b[49m\u001b[38;5;241;43m=\u001b[39;49m\u001b[38;5;124;43m'\u001b[39;49m\u001b[38;5;124;43mbar\u001b[39;49m\u001b[38;5;124;43m'\u001b[39;49m\u001b[43m,\u001b[49m\u001b[43m \u001b[49m\u001b[43mstacked\u001b[49m\u001b[38;5;241;43m=\u001b[39;49m\u001b[38;5;28;43;01mTrue\u001b[39;49;00m\u001b[43m,\u001b[49m\u001b[43m \u001b[49m\u001b[43mfigsize\u001b[49m\u001b[38;5;241;43m=\u001b[39;49m\u001b[43m(\u001b[49m\u001b[38;5;241;43m12\u001b[39;49m\u001b[43m,\u001b[49m\u001b[38;5;241;43m6\u001b[39;49m\u001b[43m)\u001b[49m\n\u001b[1;32m      3\u001b[0m \u001b[43m)\u001b[49m\n",
      "File \u001b[0;32m~/finances-dashboard/.venv/lib/python3.10/site-packages/pandas/plotting/_core.py:947\u001b[0m, in \u001b[0;36mPlotAccessor.__call__\u001b[0;34m(self, *args, **kwargs)\u001b[0m\n\u001b[1;32m    946\u001b[0m \u001b[38;5;28;01mdef\u001b[39;00m\u001b[38;5;250m \u001b[39m\u001b[38;5;21m__call__\u001b[39m(\u001b[38;5;28mself\u001b[39m, \u001b[38;5;241m*\u001b[39margs, \u001b[38;5;241m*\u001b[39m\u001b[38;5;241m*\u001b[39mkwargs):\n\u001b[0;32m--> 947\u001b[0m     plot_backend \u001b[38;5;241m=\u001b[39m \u001b[43m_get_plot_backend\u001b[49m\u001b[43m(\u001b[49m\u001b[43mkwargs\u001b[49m\u001b[38;5;241;43m.\u001b[39;49m\u001b[43mpop\u001b[49m\u001b[43m(\u001b[49m\u001b[38;5;124;43m\"\u001b[39;49m\u001b[38;5;124;43mbackend\u001b[39;49m\u001b[38;5;124;43m\"\u001b[39;49m\u001b[43m,\u001b[49m\u001b[43m \u001b[49m\u001b[38;5;28;43;01mNone\u001b[39;49;00m\u001b[43m)\u001b[49m\u001b[43m)\u001b[49m\n\u001b[1;32m    949\u001b[0m     x, y, kind, kwargs \u001b[38;5;241m=\u001b[39m \u001b[38;5;28mself\u001b[39m\u001b[38;5;241m.\u001b[39m_get_call_args(\n\u001b[1;32m    950\u001b[0m         plot_backend\u001b[38;5;241m.\u001b[39m\u001b[38;5;18m__name__\u001b[39m, \u001b[38;5;28mself\u001b[39m\u001b[38;5;241m.\u001b[39m_parent, args, kwargs\n\u001b[1;32m    951\u001b[0m     )\n\u001b[1;32m    953\u001b[0m     kind \u001b[38;5;241m=\u001b[39m \u001b[38;5;28mself\u001b[39m\u001b[38;5;241m.\u001b[39m_kind_aliases\u001b[38;5;241m.\u001b[39mget(kind, kind)\n",
      "File \u001b[0;32m~/finances-dashboard/.venv/lib/python3.10/site-packages/pandas/plotting/_core.py:1944\u001b[0m, in \u001b[0;36m_get_plot_backend\u001b[0;34m(backend)\u001b[0m\n\u001b[1;32m   1941\u001b[0m \u001b[38;5;28;01mif\u001b[39;00m backend_str \u001b[38;5;129;01min\u001b[39;00m _backends:\n\u001b[1;32m   1942\u001b[0m     \u001b[38;5;28;01mreturn\u001b[39;00m _backends[backend_str]\n\u001b[0;32m-> 1944\u001b[0m module \u001b[38;5;241m=\u001b[39m \u001b[43m_load_backend\u001b[49m\u001b[43m(\u001b[49m\u001b[43mbackend_str\u001b[49m\u001b[43m)\u001b[49m\n\u001b[1;32m   1945\u001b[0m _backends[backend_str] \u001b[38;5;241m=\u001b[39m module\n\u001b[1;32m   1946\u001b[0m \u001b[38;5;28;01mreturn\u001b[39;00m module\n",
      "File \u001b[0;32m~/finances-dashboard/.venv/lib/python3.10/site-packages/pandas/plotting/_core.py:1874\u001b[0m, in \u001b[0;36m_load_backend\u001b[0;34m(backend)\u001b[0m\n\u001b[1;32m   1872\u001b[0m         module \u001b[38;5;241m=\u001b[39m importlib\u001b[38;5;241m.\u001b[39mimport_module(\u001b[38;5;124m\"\u001b[39m\u001b[38;5;124mpandas.plotting._matplotlib\u001b[39m\u001b[38;5;124m\"\u001b[39m)\n\u001b[1;32m   1873\u001b[0m     \u001b[38;5;28;01mexcept\u001b[39;00m \u001b[38;5;167;01mImportError\u001b[39;00m:\n\u001b[0;32m-> 1874\u001b[0m         \u001b[38;5;28;01mraise\u001b[39;00m \u001b[38;5;167;01mImportError\u001b[39;00m(\n\u001b[1;32m   1875\u001b[0m             \u001b[38;5;124m\"\u001b[39m\u001b[38;5;124mmatplotlib is required for plotting when the \u001b[39m\u001b[38;5;124m\"\u001b[39m\n\u001b[1;32m   1876\u001b[0m             \u001b[38;5;124m'\u001b[39m\u001b[38;5;124mdefault backend \u001b[39m\u001b[38;5;124m\"\u001b[39m\u001b[38;5;124mmatplotlib\u001b[39m\u001b[38;5;124m\"\u001b[39m\u001b[38;5;124m is selected.\u001b[39m\u001b[38;5;124m'\u001b[39m\n\u001b[1;32m   1877\u001b[0m         ) \u001b[38;5;28;01mfrom\u001b[39;00m\u001b[38;5;250m \u001b[39m\u001b[38;5;28;01mNone\u001b[39;00m\n\u001b[1;32m   1878\u001b[0m     \u001b[38;5;28;01mreturn\u001b[39;00m module\n\u001b[1;32m   1880\u001b[0m found_backend \u001b[38;5;241m=\u001b[39m \u001b[38;5;28;01mFalse\u001b[39;00m\n",
      "\u001b[0;31mImportError\u001b[0m: matplotlib is required for plotting when the default backend \"matplotlib\" is selected."
     ]
    }
   ],
   "source": [
    "amex_df.groupby(['Month', 'Category_1'])['Amount'].sum().unstack(fill_value=0).plot(\n",
    "    kind='bar', stacked=True, figsize=(12,6)\n",
    ")"
   ]
  },
  {
   "cell_type": "code",
   "execution_count": 8,
   "id": "52adb4b7",
   "metadata": {},
   "outputs": [
    {
     "data": {
      "text/plain": [
       "array(['Merchandise & Supplies', 'Business Services', 'Transportation',\n",
       "       'Communications', 'Restaurant', 'Fees & Adjustments', 'Travel',\n",
       "       'Entertainment', 'Other'], dtype=object)"
      ]
     },
     "execution_count": 8,
     "metadata": {},
     "output_type": "execute_result"
    }
   ],
   "source": [
    "amex_df.Category_1.unique()"
   ]
  },
  {
   "cell_type": "code",
   "execution_count": 34,
   "id": "8c807f1b",
   "metadata": {},
   "outputs": [
    {
     "data": {
      "application/vnd.plotly.v1+json": {
       "config": {
        "plotlyServerURL": "https://plot.ly"
       },
       "data": [
        {
         "branchvalues": "total",
         "customdata": [
          [
           227.77,
           "ALDI 41071 4107     EFFINGHAM           IL",
           "(?)",
           "Merchandise & Supplies"
          ],
          [
           69.98,
           "MURPHY6708ATWALMART EFFINGHAM           IL",
           "(?)",
           "Transportation"
          ],
          [
           57.7,
           "BINNY'S BEVERAGE DEPCHAMPAIGN           IL",
           "2025-07-29T00:00:00",
           "Merchandise & Supplies"
          ],
          [
           15.74,
           "MCDONALD'S          EFFINGHAM           IL",
           "(?)",
           "Restaurant"
          ],
          [
           0.7,
           "FASMART 556 09451766SALEM               IL",
           "2025-07-26T00:00:00",
           "Transportation"
          ],
          [
           455.96000000000004,
           "(?)",
           "(?)",
           "Transportation"
          ],
          [
           42.2,
           "PY *KUNGFU TEA CHAMPCHAMPAIGN           IL",
           "2025-07-29T00:00:00",
           "Restaurant"
          ],
          [
           120,
           "STARLINK INTERNET   STARLINK.COM        CA",
           "2025-07-02T00:00:00",
           "Communications"
          ],
          [
           14.91,
           "TACO BELL           EFFINGHAM           IL",
           "(?)",
           "Restaurant"
          ],
          [
           232.34,
           "(?)",
           "(?)",
           "Restaurant"
          ],
          [
           20,
           "VERCEL INC.         COVINA              CA",
           "2025-07-06T00:00:00",
           "Business Services"
          ],
          [
           32.79,
           "WALGREENS           EFFINGHAM           IL",
           "2025-07-22T00:00:00",
           "Merchandise & Supplies"
          ],
          [
           15,
           "STARBUCKS STORE 0964EFFINGHAM           IL",
           "2025-07-27T00:00:00",
           "Restaurant"
          ],
          [
           46.85,
           "Cracker Barrel 99999800-333-9963        TN",
           "2025-07-16T00:00:00",
           "Restaurant"
          ],
          [
           120,
           "STARLINK INTERNET   STARLINK.COM        CA",
           "2025-07-02T00:00:00",
           "Communications"
          ],
          [
           20,
           "VERCEL INC.         COVINA              CA",
           "2025-07-06T00:00:00",
           "Business Services"
          ],
          [
           585,
           "TM *TICKETMASTER    LOS ANGELES         CA",
           "2025-07-25T00:00:00",
           "Entertainment"
          ],
          [
           6,
           "NYTimes.COM NY TIMES(800)698-4637       NY",
           "2025-07-17T00:00:00",
           "Merchandise & Supplies"
          ],
          [
           12.99,
           "VZWRLSS N8320-01    800-922-0204        FL",
           "2025-07-16T00:00:00",
           "Merchandise & Supplies"
          ],
          [
           25.89,
           "(?)",
           "(?)",
           "Merchandise & Supplies"
          ],
          [
           1076.83,
           "PET WELLNESS CENTER EFFINGHAM           IL",
           "(?)",
           "Business Services"
          ],
          [
           1603.94,
           "(?)",
           "(?)",
           "Merchandise & Supplies"
          ],
          [
           11,
           "OPENAI              SAN FRANCISCO       CA",
           "(?)",
           "Merchandise & Supplies"
          ],
          [
           6,
           "NYTimes.COM NY TIMES(800)698-4637       NY",
           "2025-07-17T00:00:00",
           "Merchandise & Supplies"
          ],
          [
           71.73,
           "MARATHON PETRO78089 NEWTON              IL",
           "2025-07-19T00:00:00",
           "Transportation"
          ],
          [
           8.95,
           "CIRCLE K # 01677    SULLIVAN            MO",
           "2025-07-20T00:00:00",
           "Transportation"
          ],
          [
           253.83,
           "MARATHON 230524 0000DIETERICH           IL",
           "(?)",
           "Transportation"
          ],
          [
           53.64,
           "HOBBY-LOBBY #0100 00EFFINGHAM           IL",
           "2025-07-18T00:00:00",
           "Merchandise & Supplies"
          ],
          [
           79.4,
           "BURGER KING #4755 00EFFINGHAM           IL",
           "(?)",
           "Restaurant"
          ],
          [
           585,
           "TM *TICKETMASTER    LOS ANGELES         CA",
           "2025-07-25T00:00:00",
           "Entertainment"
          ],
          [
           1076.83,
           "PET WELLNESS CENTER EFFINGHAM           IL",
           "(?)",
           "Business Services"
          ],
          [
           15,
           "ANTHROPIC           SAN FRANCISCO       CA",
           "(?)",
           "Merchandise & Supplies"
          ],
          [
           26,
           "(?)",
           "(?)",
           "Merchandise & Supplies"
          ],
          [
           32.79,
           "WALGREENS           EFFINGHAM           IL",
           "2025-07-22T00:00:00",
           "Merchandise & Supplies"
          ],
          [
           15.94,
           "DOLLAR GENERAL #2024DIETERICH           IL",
           "(?)",
           "Merchandise & Supplies"
          ],
          [
           585,
           "TM *TICKETMASTER    LOS ANGELES         CA",
           "2025-07-25T00:00:00",
           "Entertainment"
          ],
          [
           14.31,
           "A1 LIQUORS HWY 33 00EFFINGHAM           IL",
           "2025-07-12T00:00:00",
           "Merchandise & Supplies"
          ],
          [
           37.63,
           "SP CONSPECTUS GAMINGMASON               IL",
           "2025-07-25T00:00:00",
           "Merchandise & Supplies"
          ],
          [
           938.23,
           "WAL-MART SUPERCENTEREFFINGHAM           IL",
           "(?)",
           "Merchandise & Supplies"
          ],
          [
           50.77,
           "FASMART 560 09451881MONTROSE            IL",
           "2025-07-29T00:00:00",
           "Transportation"
          ],
          [
           120,
           "STARLINK INTERNET   STARLINK.COM        CA",
           "2025-07-02T00:00:00",
           "Communications"
          ],
          [
           1096.83,
           "(?)",
           "(?)",
           "Business Services"
          ],
          [
           963.85,
           "(?)",
           "(?)",
           "Merchandise & Supplies"
          ],
          [
           115.63,
           "A1 LIQUORS 0000     EFFINGHAM           IL",
           "(?)",
           "Merchandise & Supplies"
          ],
          [
           18.26,
           "TIL*IT TOP SHELF BEEEFFINGHAM           IL",
           "2025-07-02T00:00:00",
           "Merchandise & Supplies"
          ],
          [
           62.099999999999994,
           "(?)",
           "(?)",
           "Merchandise & Supplies"
          ],
          [
           185.49,
           "(?)",
           "(?)",
           "Restaurant"
          ],
          [
           53.64,
           "HOBBY-LOBBY #0100 00EFFINGHAM           IL",
           "2025-07-18T00:00:00",
           "Merchandise & Supplies"
          ],
          [
           8.53,
           "WL *STEAM PURCHASE  SEATTLE             WA",
           "2025-07-14T00:00:00",
           "Merchandise & Supplies"
          ],
          [
           25.62,
           "TARGET              CHAMPAIGN           IL",
           "2025-07-29T00:00:00",
           "Merchandise & Supplies"
          ],
          [
           18.24,
           "PAR*SMOOTHIE KING SKEFFINGHAM           IL",
           "2025-07-08T00:00:00",
           "Restaurant"
          ],
          [
           46.85,
           "Cracker Barrel 99999800-333-9963        TN",
           "2025-07-16T00:00:00",
           "Restaurant"
          ],
          [
           12.9,
           "Amazon Web Services AWS.Amazon.com      WA",
           "2025-07-01T00:00:00",
           "Merchandise & Supplies"
          ],
          [
           433.67,
           "(?)",
           "(?)",
           "Merchandise & Supplies"
          ],
          [
           455.96000000000004,
           "(?)",
           "(?)",
           "Transportation"
          ]
         ],
         "domain": {
          "x": [
           0,
           1
          ],
          "y": [
           0,
           1
          ]
         },
         "hovertemplate": "labels=%{label}<br>Amount=%{customdata[0]}<br>parent=%{parent}<br>id=%{id}<br>Description=%{customdata[1]}<br>Date=%{customdata[2]}<br>Category_1=%{customdata[3]}<extra></extra>",
         "ids": [
          "Merchandise & Supplies/Groceries/ALDI 41071 4107     EFFINGHAM           IL",
          "Transportation/Fuel/MURPHY6708ATWALMART EFFINGHAM           IL",
          "Merchandise & Supplies/Groceries/BINNY'S BEVERAGE DEPCHAMPAIGN           IL",
          "Restaurant/Bar & Café/MCDONALD'S          EFFINGHAM           IL",
          "Transportation/Fuel/FASMART 556 09451766SALEM               IL",
          "Transportation/Fuel",
          "Restaurant/Bar & Café/PY *KUNGFU TEA CHAMPCHAMPAIGN           IL",
          "Communications/Cable & Internet Comm/STARLINK INTERNET   STARLINK.COM        CA",
          "Restaurant/Bar & Café/TACO BELL           EFFINGHAM           IL",
          "Restaurant",
          "Business Services/Employment Agencies/VERCEL INC.         COVINA              CA",
          "Merchandise & Supplies/Pharmacies/WALGREENS           EFFINGHAM           IL",
          "Restaurant/Bar & Café/STARBUCKS STORE 0964EFFINGHAM           IL",
          "Restaurant/Restaurant",
          "Communications/Cable & Internet Comm",
          "Business Services/Employment Agencies",
          "Entertainment/General Events",
          "Merchandise & Supplies/Mail Order",
          "Merchandise & Supplies/Internet Purchase/VZWRLSS N8320-01    800-922-0204        FL",
          "Merchandise & Supplies/Internet Purchase",
          "Business Services/Health Care Services",
          "Merchandise & Supplies",
          "Merchandise & Supplies/Computer Supplies/OPENAI              SAN FRANCISCO       CA",
          "Merchandise & Supplies/Mail Order/NYTimes.COM NY TIMES(800)698-4637       NY",
          "Transportation/Fuel/MARATHON PETRO78089 NEWTON              IL",
          "Transportation/Fuel/CIRCLE K # 01677    SULLIVAN            MO",
          "Transportation/Fuel/MARATHON 230524 0000DIETERICH           IL",
          "Merchandise & Supplies/Arts & Jewelry/HOBBY-LOBBY #0100 00EFFINGHAM           IL",
          "Restaurant/Bar & Café/BURGER KING #4755 00EFFINGHAM           IL",
          "Entertainment",
          "Business Services/Health Care Services/PET WELLNESS CENTER EFFINGHAM           IL",
          "Merchandise & Supplies/Computer Supplies/ANTHROPIC           SAN FRANCISCO       CA",
          "Merchandise & Supplies/Computer Supplies",
          "Merchandise & Supplies/Pharmacies",
          "Merchandise & Supplies/General Retail/DOLLAR GENERAL #2024DIETERICH           IL",
          "Entertainment/General Events/TM *TICKETMASTER    LOS ANGELES         CA",
          "Merchandise & Supplies/Groceries/A1 LIQUORS HWY 33 00EFFINGHAM           IL",
          "Merchandise & Supplies/General Retail/SP CONSPECTUS GAMINGMASON               IL",
          "Merchandise & Supplies/Wholesale Stores/WAL-MART SUPERCENTEREFFINGHAM           IL",
          "Transportation/Fuel/FASMART 560 09451881MONTROSE            IL",
          "Communications",
          "Business Services",
          "Merchandise & Supplies/Wholesale Stores",
          "Merchandise & Supplies/Groceries/A1 LIQUORS 0000     EFFINGHAM           IL",
          "Merchandise & Supplies/Groceries/TIL*IT TOP SHELF BEEEFFINGHAM           IL",
          "Merchandise & Supplies/General Retail",
          "Restaurant/Bar & Café",
          "Merchandise & Supplies/Arts & Jewelry",
          "Merchandise & Supplies/General Retail/WL *STEAM PURCHASE  SEATTLE             WA",
          "Merchandise & Supplies/Wholesale Stores/TARGET              CHAMPAIGN           IL",
          "Restaurant/Bar & Café/PAR*SMOOTHIE KING SKEFFINGHAM           IL",
          "Restaurant/Restaurant/Cracker Barrel 99999800-333-9963        TN",
          "Merchandise & Supplies/Internet Purchase/Amazon Web Services AWS.Amazon.com      WA",
          "Merchandise & Supplies/Groceries",
          "Transportation"
         ],
         "labels": [
          "ALDI 41071 4107     EFFINGHAM           IL",
          "MURPHY6708ATWALMART EFFINGHAM           IL",
          "BINNY'S BEVERAGE DEPCHAMPAIGN           IL",
          "MCDONALD'S          EFFINGHAM           IL",
          "FASMART 556 09451766SALEM               IL",
          "Fuel",
          "PY *KUNGFU TEA CHAMPCHAMPAIGN           IL",
          "STARLINK INTERNET   STARLINK.COM        CA",
          "TACO BELL           EFFINGHAM           IL",
          "Restaurant",
          "VERCEL INC.         COVINA              CA",
          "WALGREENS           EFFINGHAM           IL",
          "STARBUCKS STORE 0964EFFINGHAM           IL",
          "Restaurant",
          "Cable & Internet Comm",
          "Employment Agencies",
          "General Events",
          "Mail Order",
          "VZWRLSS N8320-01    800-922-0204        FL",
          "Internet Purchase",
          "Health Care Services",
          "Merchandise & Supplies",
          "OPENAI              SAN FRANCISCO       CA",
          "NYTimes.COM NY TIMES(800)698-4637       NY",
          "MARATHON PETRO78089 NEWTON              IL",
          "CIRCLE K # 01677    SULLIVAN            MO",
          "MARATHON 230524 0000DIETERICH           IL",
          "HOBBY-LOBBY #0100 00EFFINGHAM           IL",
          "BURGER KING #4755 00EFFINGHAM           IL",
          "Entertainment",
          "PET WELLNESS CENTER EFFINGHAM           IL",
          "ANTHROPIC           SAN FRANCISCO       CA",
          "Computer Supplies",
          "Pharmacies",
          "DOLLAR GENERAL #2024DIETERICH           IL",
          "TM *TICKETMASTER    LOS ANGELES         CA",
          "A1 LIQUORS HWY 33 00EFFINGHAM           IL",
          "SP CONSPECTUS GAMINGMASON               IL",
          "WAL-MART SUPERCENTEREFFINGHAM           IL",
          "FASMART 560 09451881MONTROSE            IL",
          "Communications",
          "Business Services",
          "Wholesale Stores",
          "A1 LIQUORS 0000     EFFINGHAM           IL",
          "TIL*IT TOP SHELF BEEEFFINGHAM           IL",
          "General Retail",
          "Bar & Café",
          "Arts & Jewelry",
          "WL *STEAM PURCHASE  SEATTLE             WA",
          "TARGET              CHAMPAIGN           IL",
          "PAR*SMOOTHIE KING SKEFFINGHAM           IL",
          "Cracker Barrel 99999800-333-9963        TN",
          "Amazon Web Services AWS.Amazon.com      WA",
          "Groceries",
          "Transportation"
         ],
         "marker": {
          "colors": [
           "#636efa",
           "#EF553B",
           "#636efa",
           "#00cc96",
           "#EF553B",
           "#EF553B",
           "#00cc96",
           "#ab63fa",
           "#00cc96",
           "#00cc96",
           "#FFA15A",
           "#636efa",
           "#00cc96",
           "#00cc96",
           "#ab63fa",
           "#FFA15A",
           "#19d3f3",
           "#636efa",
           "#636efa",
           "#636efa",
           "#FFA15A",
           "#636efa",
           "#636efa",
           "#636efa",
           "#EF553B",
           "#EF553B",
           "#EF553B",
           "#636efa",
           "#00cc96",
           "#19d3f3",
           "#FFA15A",
           "#636efa",
           "#636efa",
           "#636efa",
           "#636efa",
           "#19d3f3",
           "#636efa",
           "#636efa",
           "#636efa",
           "#EF553B",
           "#ab63fa",
           "#FFA15A",
           "#636efa",
           "#636efa",
           "#636efa",
           "#636efa",
           "#00cc96",
           "#636efa",
           "#636efa",
           "#636efa",
           "#00cc96",
           "#00cc96",
           "#636efa",
           "#636efa",
           "#EF553B"
          ]
         },
         "name": "",
         "parents": [
          "Merchandise & Supplies/Groceries",
          "Transportation/Fuel",
          "Merchandise & Supplies/Groceries",
          "Restaurant/Bar & Café",
          "Transportation/Fuel",
          "Transportation",
          "Restaurant/Bar & Café",
          "Communications/Cable & Internet Comm",
          "Restaurant/Bar & Café",
          "",
          "Business Services/Employment Agencies",
          "Merchandise & Supplies/Pharmacies",
          "Restaurant/Bar & Café",
          "Restaurant",
          "Communications",
          "Business Services",
          "Entertainment",
          "Merchandise & Supplies",
          "Merchandise & Supplies/Internet Purchase",
          "Merchandise & Supplies",
          "Business Services",
          "",
          "Merchandise & Supplies/Computer Supplies",
          "Merchandise & Supplies/Mail Order",
          "Transportation/Fuel",
          "Transportation/Fuel",
          "Transportation/Fuel",
          "Merchandise & Supplies/Arts & Jewelry",
          "Restaurant/Bar & Café",
          "",
          "Business Services/Health Care Services",
          "Merchandise & Supplies/Computer Supplies",
          "Merchandise & Supplies",
          "Merchandise & Supplies",
          "Merchandise & Supplies/General Retail",
          "Entertainment/General Events",
          "Merchandise & Supplies/Groceries",
          "Merchandise & Supplies/General Retail",
          "Merchandise & Supplies/Wholesale Stores",
          "Transportation/Fuel",
          "",
          "",
          "Merchandise & Supplies",
          "Merchandise & Supplies/Groceries",
          "Merchandise & Supplies/Groceries",
          "Merchandise & Supplies",
          "Restaurant",
          "Merchandise & Supplies",
          "Merchandise & Supplies/General Retail",
          "Merchandise & Supplies/Wholesale Stores",
          "Restaurant/Bar & Café",
          "Restaurant/Restaurant",
          "Merchandise & Supplies/Internet Purchase",
          "Merchandise & Supplies",
          ""
         ],
         "type": "treemap",
         "values": [
          227.77,
          69.98,
          57.7,
          15.74,
          0.7,
          455.96000000000004,
          42.2,
          120,
          14.91,
          232.34,
          20,
          32.79,
          15,
          46.85,
          120,
          20,
          585,
          6,
          12.99,
          25.89,
          1076.83,
          1603.94,
          11,
          6,
          71.73,
          8.95,
          253.83,
          53.64,
          79.4,
          585,
          1076.83,
          15,
          26,
          32.79,
          15.94,
          585,
          14.31,
          37.63,
          938.23,
          50.77,
          120,
          1096.83,
          963.85,
          115.63,
          18.26,
          62.099999999999994,
          185.49,
          53.64,
          8.53,
          25.62,
          18.24,
          46.85,
          12.9,
          433.67,
          455.96000000000004
         ]
        }
       ],
       "layout": {
        "legend": {
         "tracegroupgap": 0
        },
        "template": {
         "data": {
          "bar": [
           {
            "error_x": {
             "color": "#2a3f5f"
            },
            "error_y": {
             "color": "#2a3f5f"
            },
            "marker": {
             "line": {
              "color": "#E5ECF6",
              "width": 0.5
             },
             "pattern": {
              "fillmode": "overlay",
              "size": 10,
              "solidity": 0.2
             }
            },
            "type": "bar"
           }
          ],
          "barpolar": [
           {
            "marker": {
             "line": {
              "color": "#E5ECF6",
              "width": 0.5
             },
             "pattern": {
              "fillmode": "overlay",
              "size": 10,
              "solidity": 0.2
             }
            },
            "type": "barpolar"
           }
          ],
          "carpet": [
           {
            "aaxis": {
             "endlinecolor": "#2a3f5f",
             "gridcolor": "white",
             "linecolor": "white",
             "minorgridcolor": "white",
             "startlinecolor": "#2a3f5f"
            },
            "baxis": {
             "endlinecolor": "#2a3f5f",
             "gridcolor": "white",
             "linecolor": "white",
             "minorgridcolor": "white",
             "startlinecolor": "#2a3f5f"
            },
            "type": "carpet"
           }
          ],
          "choropleth": [
           {
            "colorbar": {
             "outlinewidth": 0,
             "ticks": ""
            },
            "type": "choropleth"
           }
          ],
          "contour": [
           {
            "colorbar": {
             "outlinewidth": 0,
             "ticks": ""
            },
            "colorscale": [
             [
              0,
              "#0d0887"
             ],
             [
              0.1111111111111111,
              "#46039f"
             ],
             [
              0.2222222222222222,
              "#7201a8"
             ],
             [
              0.3333333333333333,
              "#9c179e"
             ],
             [
              0.4444444444444444,
              "#bd3786"
             ],
             [
              0.5555555555555556,
              "#d8576b"
             ],
             [
              0.6666666666666666,
              "#ed7953"
             ],
             [
              0.7777777777777778,
              "#fb9f3a"
             ],
             [
              0.8888888888888888,
              "#fdca26"
             ],
             [
              1,
              "#f0f921"
             ]
            ],
            "type": "contour"
           }
          ],
          "contourcarpet": [
           {
            "colorbar": {
             "outlinewidth": 0,
             "ticks": ""
            },
            "type": "contourcarpet"
           }
          ],
          "heatmap": [
           {
            "colorbar": {
             "outlinewidth": 0,
             "ticks": ""
            },
            "colorscale": [
             [
              0,
              "#0d0887"
             ],
             [
              0.1111111111111111,
              "#46039f"
             ],
             [
              0.2222222222222222,
              "#7201a8"
             ],
             [
              0.3333333333333333,
              "#9c179e"
             ],
             [
              0.4444444444444444,
              "#bd3786"
             ],
             [
              0.5555555555555556,
              "#d8576b"
             ],
             [
              0.6666666666666666,
              "#ed7953"
             ],
             [
              0.7777777777777778,
              "#fb9f3a"
             ],
             [
              0.8888888888888888,
              "#fdca26"
             ],
             [
              1,
              "#f0f921"
             ]
            ],
            "type": "heatmap"
           }
          ],
          "heatmapgl": [
           {
            "colorbar": {
             "outlinewidth": 0,
             "ticks": ""
            },
            "colorscale": [
             [
              0,
              "#0d0887"
             ],
             [
              0.1111111111111111,
              "#46039f"
             ],
             [
              0.2222222222222222,
              "#7201a8"
             ],
             [
              0.3333333333333333,
              "#9c179e"
             ],
             [
              0.4444444444444444,
              "#bd3786"
             ],
             [
              0.5555555555555556,
              "#d8576b"
             ],
             [
              0.6666666666666666,
              "#ed7953"
             ],
             [
              0.7777777777777778,
              "#fb9f3a"
             ],
             [
              0.8888888888888888,
              "#fdca26"
             ],
             [
              1,
              "#f0f921"
             ]
            ],
            "type": "heatmapgl"
           }
          ],
          "histogram": [
           {
            "marker": {
             "pattern": {
              "fillmode": "overlay",
              "size": 10,
              "solidity": 0.2
             }
            },
            "type": "histogram"
           }
          ],
          "histogram2d": [
           {
            "colorbar": {
             "outlinewidth": 0,
             "ticks": ""
            },
            "colorscale": [
             [
              0,
              "#0d0887"
             ],
             [
              0.1111111111111111,
              "#46039f"
             ],
             [
              0.2222222222222222,
              "#7201a8"
             ],
             [
              0.3333333333333333,
              "#9c179e"
             ],
             [
              0.4444444444444444,
              "#bd3786"
             ],
             [
              0.5555555555555556,
              "#d8576b"
             ],
             [
              0.6666666666666666,
              "#ed7953"
             ],
             [
              0.7777777777777778,
              "#fb9f3a"
             ],
             [
              0.8888888888888888,
              "#fdca26"
             ],
             [
              1,
              "#f0f921"
             ]
            ],
            "type": "histogram2d"
           }
          ],
          "histogram2dcontour": [
           {
            "colorbar": {
             "outlinewidth": 0,
             "ticks": ""
            },
            "colorscale": [
             [
              0,
              "#0d0887"
             ],
             [
              0.1111111111111111,
              "#46039f"
             ],
             [
              0.2222222222222222,
              "#7201a8"
             ],
             [
              0.3333333333333333,
              "#9c179e"
             ],
             [
              0.4444444444444444,
              "#bd3786"
             ],
             [
              0.5555555555555556,
              "#d8576b"
             ],
             [
              0.6666666666666666,
              "#ed7953"
             ],
             [
              0.7777777777777778,
              "#fb9f3a"
             ],
             [
              0.8888888888888888,
              "#fdca26"
             ],
             [
              1,
              "#f0f921"
             ]
            ],
            "type": "histogram2dcontour"
           }
          ],
          "mesh3d": [
           {
            "colorbar": {
             "outlinewidth": 0,
             "ticks": ""
            },
            "type": "mesh3d"
           }
          ],
          "parcoords": [
           {
            "line": {
             "colorbar": {
              "outlinewidth": 0,
              "ticks": ""
             }
            },
            "type": "parcoords"
           }
          ],
          "pie": [
           {
            "automargin": true,
            "type": "pie"
           }
          ],
          "scatter": [
           {
            "fillpattern": {
             "fillmode": "overlay",
             "size": 10,
             "solidity": 0.2
            },
            "type": "scatter"
           }
          ],
          "scatter3d": [
           {
            "line": {
             "colorbar": {
              "outlinewidth": 0,
              "ticks": ""
             }
            },
            "marker": {
             "colorbar": {
              "outlinewidth": 0,
              "ticks": ""
             }
            },
            "type": "scatter3d"
           }
          ],
          "scattercarpet": [
           {
            "marker": {
             "colorbar": {
              "outlinewidth": 0,
              "ticks": ""
             }
            },
            "type": "scattercarpet"
           }
          ],
          "scattergeo": [
           {
            "marker": {
             "colorbar": {
              "outlinewidth": 0,
              "ticks": ""
             }
            },
            "type": "scattergeo"
           }
          ],
          "scattergl": [
           {
            "marker": {
             "colorbar": {
              "outlinewidth": 0,
              "ticks": ""
             }
            },
            "type": "scattergl"
           }
          ],
          "scattermapbox": [
           {
            "marker": {
             "colorbar": {
              "outlinewidth": 0,
              "ticks": ""
             }
            },
            "type": "scattermapbox"
           }
          ],
          "scatterpolar": [
           {
            "marker": {
             "colorbar": {
              "outlinewidth": 0,
              "ticks": ""
             }
            },
            "type": "scatterpolar"
           }
          ],
          "scatterpolargl": [
           {
            "marker": {
             "colorbar": {
              "outlinewidth": 0,
              "ticks": ""
             }
            },
            "type": "scatterpolargl"
           }
          ],
          "scatterternary": [
           {
            "marker": {
             "colorbar": {
              "outlinewidth": 0,
              "ticks": ""
             }
            },
            "type": "scatterternary"
           }
          ],
          "surface": [
           {
            "colorbar": {
             "outlinewidth": 0,
             "ticks": ""
            },
            "colorscale": [
             [
              0,
              "#0d0887"
             ],
             [
              0.1111111111111111,
              "#46039f"
             ],
             [
              0.2222222222222222,
              "#7201a8"
             ],
             [
              0.3333333333333333,
              "#9c179e"
             ],
             [
              0.4444444444444444,
              "#bd3786"
             ],
             [
              0.5555555555555556,
              "#d8576b"
             ],
             [
              0.6666666666666666,
              "#ed7953"
             ],
             [
              0.7777777777777778,
              "#fb9f3a"
             ],
             [
              0.8888888888888888,
              "#fdca26"
             ],
             [
              1,
              "#f0f921"
             ]
            ],
            "type": "surface"
           }
          ],
          "table": [
           {
            "cells": {
             "fill": {
              "color": "#EBF0F8"
             },
             "line": {
              "color": "white"
             }
            },
            "header": {
             "fill": {
              "color": "#C8D4E3"
             },
             "line": {
              "color": "white"
             }
            },
            "type": "table"
           }
          ]
         },
         "layout": {
          "annotationdefaults": {
           "arrowcolor": "#2a3f5f",
           "arrowhead": 0,
           "arrowwidth": 1
          },
          "autotypenumbers": "strict",
          "coloraxis": {
           "colorbar": {
            "outlinewidth": 0,
            "ticks": ""
           }
          },
          "colorscale": {
           "diverging": [
            [
             0,
             "#8e0152"
            ],
            [
             0.1,
             "#c51b7d"
            ],
            [
             0.2,
             "#de77ae"
            ],
            [
             0.3,
             "#f1b6da"
            ],
            [
             0.4,
             "#fde0ef"
            ],
            [
             0.5,
             "#f7f7f7"
            ],
            [
             0.6,
             "#e6f5d0"
            ],
            [
             0.7,
             "#b8e186"
            ],
            [
             0.8,
             "#7fbc41"
            ],
            [
             0.9,
             "#4d9221"
            ],
            [
             1,
             "#276419"
            ]
           ],
           "sequential": [
            [
             0,
             "#0d0887"
            ],
            [
             0.1111111111111111,
             "#46039f"
            ],
            [
             0.2222222222222222,
             "#7201a8"
            ],
            [
             0.3333333333333333,
             "#9c179e"
            ],
            [
             0.4444444444444444,
             "#bd3786"
            ],
            [
             0.5555555555555556,
             "#d8576b"
            ],
            [
             0.6666666666666666,
             "#ed7953"
            ],
            [
             0.7777777777777778,
             "#fb9f3a"
            ],
            [
             0.8888888888888888,
             "#fdca26"
            ],
            [
             1,
             "#f0f921"
            ]
           ],
           "sequentialminus": [
            [
             0,
             "#0d0887"
            ],
            [
             0.1111111111111111,
             "#46039f"
            ],
            [
             0.2222222222222222,
             "#7201a8"
            ],
            [
             0.3333333333333333,
             "#9c179e"
            ],
            [
             0.4444444444444444,
             "#bd3786"
            ],
            [
             0.5555555555555556,
             "#d8576b"
            ],
            [
             0.6666666666666666,
             "#ed7953"
            ],
            [
             0.7777777777777778,
             "#fb9f3a"
            ],
            [
             0.8888888888888888,
             "#fdca26"
            ],
            [
             1,
             "#f0f921"
            ]
           ]
          },
          "colorway": [
           "#636efa",
           "#EF553B",
           "#00cc96",
           "#ab63fa",
           "#FFA15A",
           "#19d3f3",
           "#FF6692",
           "#B6E880",
           "#FF97FF",
           "#FECB52"
          ],
          "font": {
           "color": "#2a3f5f"
          },
          "geo": {
           "bgcolor": "white",
           "lakecolor": "white",
           "landcolor": "#E5ECF6",
           "showlakes": true,
           "showland": true,
           "subunitcolor": "white"
          },
          "hoverlabel": {
           "align": "left"
          },
          "hovermode": "closest",
          "mapbox": {
           "style": "light"
          },
          "paper_bgcolor": "white",
          "plot_bgcolor": "#E5ECF6",
          "polar": {
           "angularaxis": {
            "gridcolor": "white",
            "linecolor": "white",
            "ticks": ""
           },
           "bgcolor": "#E5ECF6",
           "radialaxis": {
            "gridcolor": "white",
            "linecolor": "white",
            "ticks": ""
           }
          },
          "scene": {
           "xaxis": {
            "backgroundcolor": "#E5ECF6",
            "gridcolor": "white",
            "gridwidth": 2,
            "linecolor": "white",
            "showbackground": true,
            "ticks": "",
            "zerolinecolor": "white"
           },
           "yaxis": {
            "backgroundcolor": "#E5ECF6",
            "gridcolor": "white",
            "gridwidth": 2,
            "linecolor": "white",
            "showbackground": true,
            "ticks": "",
            "zerolinecolor": "white"
           },
           "zaxis": {
            "backgroundcolor": "#E5ECF6",
            "gridcolor": "white",
            "gridwidth": 2,
            "linecolor": "white",
            "showbackground": true,
            "ticks": "",
            "zerolinecolor": "white"
           }
          },
          "shapedefaults": {
           "line": {
            "color": "#2a3f5f"
           }
          },
          "ternary": {
           "aaxis": {
            "gridcolor": "white",
            "linecolor": "white",
            "ticks": ""
           },
           "baxis": {
            "gridcolor": "white",
            "linecolor": "white",
            "ticks": ""
           },
           "bgcolor": "#E5ECF6",
           "caxis": {
            "gridcolor": "white",
            "linecolor": "white",
            "ticks": ""
           }
          },
          "title": {
           "x": 0.05
          },
          "xaxis": {
           "automargin": true,
           "gridcolor": "white",
           "linecolor": "white",
           "ticks": "",
           "title": {
            "standoff": 15
           },
           "zerolinecolor": "white",
           "zerolinewidth": 2
          },
          "yaxis": {
           "automargin": true,
           "gridcolor": "white",
           "linecolor": "white",
           "ticks": "",
           "title": {
            "standoff": 15
           },
           "zerolinecolor": "white",
           "zerolinewidth": 2
          }
         }
        },
        "title": {
         "text": "July 2025 Spending Treemap by Category"
        }
       }
      }
     },
     "metadata": {},
     "output_type": "display_data"
    }
   ],
   "source": [
    "import plotly.express as px\n",
    "\n",
    "fig_treemap = px.treemap(\n",
    "    july_df,\n",
    "    path=['Category_1', 'Category_2', 'Appears On Your Statement As'],\n",
    "    values='Amount',\n",
    "    color='Category_1',\n",
    "    hover_data=['Amount', 'Description', 'Date'],\n",
    "    title=\"July 2025 Spending Treemap by Category\"\n",
    ")\n",
    "fig_treemap.show()"
   ]
  },
  {
   "cell_type": "code",
   "execution_count": null,
   "id": "d58a1a6e",
   "metadata": {},
   "outputs": [],
   "source": []
  },
  {
   "cell_type": "code",
   "execution_count": null,
   "id": "beb7959c",
   "metadata": {},
   "outputs": [],
   "source": []
  }
 ],
 "metadata": {
  "kernelspec": {
   "display_name": "finances-dashboard",
   "language": "python",
   "name": "python3"
  },
  "language_info": {
   "codemirror_mode": {
    "name": "ipython",
    "version": 3
   },
   "file_extension": ".py",
   "mimetype": "text/x-python",
   "name": "python",
   "nbconvert_exporter": "python",
   "pygments_lexer": "ipython3",
   "version": "3.10.12"
  }
 },
 "nbformat": 4,
 "nbformat_minor": 5
}
